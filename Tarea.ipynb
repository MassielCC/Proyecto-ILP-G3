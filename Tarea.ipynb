{
  "nbformat": 4,
  "nbformat_minor": 0,
  "metadata": {
    "colab": {
      "provenance": []
    },
    "kernelspec": {
      "name": "python3",
      "display_name": "Python 3"
    },
    "language_info": {
      "name": "python"
    }
  },
  "cells": [
    {
      "cell_type": "code",
      "source": [
        "class Operaciones:\n",
        "    def __init__(self):\n",
        "        self.conjunto_a = set()\n",
        "        self.conjunto_b = set()\n",
        "\n",
        "    def definir_conjuntos(self, conjunto_a, conjunto_b):\n",
        "        self.conjunto_a = set(conjunto_a)\n",
        "        self.conjunto_b = set(conjunto_b)\n",
        "\n",
        "    def interseccion(self):\n",
        "        return self.conjunto_a.intersection(self.conjunto_b)\n"
      ],
      "metadata": {
        "id": "gDp6zDJ1iMh9"
      },
      "execution_count": 20,
      "outputs": []
    },
    {
      "cell_type": "code",
      "source": [
        "\n",
        "Ejecuciones = Operaciones()\n",
        "Ejecuciones.definir_conjuntos({21, 32, 43,55, 72, 50, 9, 6}, {32, 43, 50, 4, 9, 13, 21})\n",
        "print(\"Intersección:\", Ejecuciones.interseccion())\n"
      ],
      "metadata": {
        "colab": {
          "base_uri": "https://localhost:8080/"
        },
        "id": "tq7FB9caiavk",
        "outputId": "096e746d-a4d3-44c8-8420-a35a15a6e879"
      },
      "execution_count": 19,
      "outputs": [
        {
          "output_type": "stream",
          "name": "stdout",
          "text": [
            "Intersección: {32, 9, 43, 50, 21}\n"
          ]
        }
      ]
    }
  ]
}