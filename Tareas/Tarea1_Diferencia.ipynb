{
  "nbformat": 4,
  "nbformat_minor": 0,
  "metadata": {
    "colab": {
      "provenance": []
    },
    "kernelspec": {
      "name": "python3",
      "display_name": "Python 3"
    },
    "language_info": {
      "name": "python"
    }
  },
  "cells": [
    {
      "cell_type": "code",
      "source": [
        "class Conjunto:\n",
        "    def __init__(self, elementos):\n",
        "        self.elementos= set(elementos)\n",
        "\n",
        "    def union(self, conjunto_B):\n",
        "        pass\n",
        "\n",
        "    def interseccion(self, conjunto_B):\n",
        "        pass\n",
        "\n",
        "    def diferencia(self, conjunto_B):\n",
        "        return list(self.elementos - conjunto_B.elementos)\n",
        "\n",
        "    def producto_cartesiano(self, conjunto_B):\n",
        "        pass"
      ],
      "metadata": {
        "id": "zZbarX_hsXaW"
      },
      "execution_count": 3,
      "outputs": []
    },
    {
      "cell_type": "code",
      "source": [
        "M= Conjunto([1,2,3,4])\n",
        "N= Conjunto([3,4,7,8])\n",
        "\n",
        "M.diferencia(N)"
      ],
      "metadata": {
        "colab": {
          "base_uri": "https://localhost:8080/"
        },
        "id": "9-TS2oqvtL2j",
        "outputId": "e1972219-d3cf-45c1-eac6-57c643b8dec8"
      },
      "execution_count": 4,
      "outputs": [
        {
          "output_type": "execute_result",
          "data": {
            "text/plain": [
              "[1, 2]"
            ]
          },
          "metadata": {},
          "execution_count": 4
        }
      ]
    }
  ]
}