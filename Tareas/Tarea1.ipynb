{
 "cells": [
  {
   "cell_type": "code",
   "execution_count": 11,
   "id": "e59a215c",
   "metadata": {},
   "outputs": [],
   "source": [
    "class Conjunto:\n",
    "    def __init__(self, elementos):\n",
    "        self.elementos= elementos\n",
    "    \n",
    "    def union(self, conjunto_B):\n",
    "        return self.elementos + conjunto_B.elementos\n",
    "\n",
    "    def interseccion(self):\n",
    "        pass\n",
    "\n",
    "    def diferencia(self):\n",
    "        pass\n",
    "\n",
    "    def producto_cartesiano(self, conjunto_B):\n",
    "        return [(a, b) for a in self.elementos for b in conjunto_B.elementos]"
   ]
  },
  {
   "cell_type": "code",
   "execution_count": 12,
   "id": "ffa40e3c",
   "metadata": {},
   "outputs": [
    {
     "name": "stdout",
     "output_type": "stream",
     "text": [
      "Unión: [1, 20, 33, 492, 34, 65, 74, 82]\n",
      "Producto Cartesiano: [(1, 34), (1, 65), (1, 74), (1, 82), (20, 34), (20, 65), (20, 74), (20, 82), (33, 34), (33, 65), (33, 74), (33, 82), (492, 34), (492, 65), (492, 74), (492, 82)]\n"
     ]
    }
   ],
   "source": [
    "A=Conjunto([1,20,33,492])\n",
    "B=Conjunto([34,65,74,82])\n",
    "\n",
    "union_res = A.union(B)\n",
    "print(\"Unión:\", union_res)\n",
    "\n",
    "producto_cartesiano_res = A.producto_cartesiano(B)\n",
    "print(\"Producto Cartesiano:\", producto_cartesiano_res)"
   ]
  }
 ],
 "metadata": {
  "kernelspec": {
   "display_name": "Python 3 (ipykernel)",
   "language": "python",
   "name": "python3"
  },
  "language_info": {
   "codemirror_mode": {
    "name": "ipython",
    "version": 3
   },
   "file_extension": ".py",
   "mimetype": "text/x-python",
   "name": "python",
   "nbconvert_exporter": "python",
   "pygments_lexer": "ipython3",
   "version": "3.12.4"
  }
 },
 "nbformat": 4,
 "nbformat_minor": 5
}
