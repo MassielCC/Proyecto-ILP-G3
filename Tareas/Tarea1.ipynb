{
 "cells": [
  {
   "cell_type": "code",
   "execution_count": null,
   "id": "e59a215c",
   "metadata": {},
   "outputs": [],
   "source": [
    "class Conjunto:\n",
    "    def __init__(self, elementos):\n",
    "        self.elementos= elementos\n",
    "    \n",
    "    def union(self, conjunto_B):\n",
    "        return self.elementos + conjunto_B.elementos\n",
    "\n",
    "    def interseccion(self):\n",
    "        pass\n",
    "\n",
    "    def diferencia(self):\n",
    "        pass\n",
    "\n",
    "    def producto_cartesiano(self, conjunto_B):\n",
    "        pass"
   ]
  },
  {
   "cell_type": "code",
   "execution_count": 20,
   "id": "ffa40e3c",
   "metadata": {},
   "outputs": [
    {
     "name": "stdout",
     "output_type": "stream",
     "text": [
      "Conjunto A:  [1, 20, 33, 492]\n",
      "Conjunto B:  [34, 65, 74, 82]\n"
     ]
    },
    {
     "data": {
      "text/plain": [
       "[1, 20, 33, 492, 34, 65, 74, 82]"
      ]
     },
     "execution_count": 20,
     "metadata": {},
     "output_type": "execute_result"
    }
   ],
   "source": [
    "A=Conjunto([1,20,33,492])\n",
    "B=Conjunto([34,65,74,82])\n",
    "A.union(B)"
   ]
  }
 ],
 "metadata": {
  "kernelspec": {
   "display_name": "Python 3 (ipykernel)",
   "language": "python",
   "name": "python3"
  },
  "language_info": {
   "codemirror_mode": {
    "name": "ipython",
    "version": 3
   },
   "file_extension": ".py",
   "mimetype": "text/x-python",
   "name": "python",
   "nbconvert_exporter": "python",
   "pygments_lexer": "ipython3",
   "version": "3.11.7"
  }
 },
 "nbformat": 4,
 "nbformat_minor": 5
}
