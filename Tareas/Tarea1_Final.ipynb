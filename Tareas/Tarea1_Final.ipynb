{
 "cells": [
  {
   "cell_type": "code",
   "execution_count": 1,
   "id": "e59a215c",
   "metadata": {},
   "outputs": [],
   "source": [
    "class Conjunto:\n",
    "    def __init__(self, elementos):\n",
    "        self.elementos= elementos\n",
    "    \n",
    "    def union(self, conjunto_B):\n",
    "        return self.elementos + conjunto_B.elementos\n",
    "\n",
    "    def interseccion(self, conjunto_B):\n",
    "        return [x for x in conjunto_B.elementos if x in self.elementos]\n",
    "\n",
    "    def diferencia(self, conjunto_B):\n",
    "        return [x for x in self.elementos if x not in conjunto_B.elementos]\n",
    "\n",
    "    def producto_cartesiano(self, conjunto_B):\n",
    "        return [(a, b) for a in self.elementos for b in conjunto_B.elementos]"
   ]
  },
  {
   "cell_type": "code",
   "execution_count": 3,
   "id": "ffa40e3c",
   "metadata": {},
   "outputs": [
    {
     "name": "stdout",
     "output_type": "stream",
     "text": [
      "Unión: [1, 10, 5, 50, 10, 20]\n",
      "Intersección: [10]\n",
      "Diferencia: [1, 5]\n",
      "Producto Cartesiano: [(1, 50), (1, 10), (1, 20), (10, 50), (10, 10), (10, 20), (5, 50), (5, 10), (5, 20)]\n"
     ]
    }
   ],
   "source": [
    "A=Conjunto([1,10,5])\n",
    "B=Conjunto([50,10,20])\n",
    "\n",
    "union_res = A.union(B)\n",
    "print(\"Unión:\", union_res)\n",
    "\n",
    "interseccion_res = A.interseccion(B)\n",
    "print(\"Intersección:\", interseccion_res)\n",
    "\n",
    "diferencia_res = A.diferencia(B)\n",
    "print(\"Diferencia:\", diferencia_res)\n",
    "\n",
    "producto_cartesiano_res = A.producto_cartesiano(B)\n",
    "print(\"Producto Cartesiano:\", producto_cartesiano_res)"
   ]
  }
 ],
 "metadata": {
  "kernelspec": {
   "display_name": "Python 3 (ipykernel)",
   "language": "python",
   "name": "python3"
  },
  "language_info": {
   "codemirror_mode": {
    "name": "ipython",
    "version": 3
   },
   "file_extension": ".py",
   "mimetype": "text/x-python",
   "name": "python",
   "nbconvert_exporter": "python",
   "pygments_lexer": "ipython3",
   "version": "3.12.4"
  }
 },
 "nbformat": 4,
 "nbformat_minor": 5
}
